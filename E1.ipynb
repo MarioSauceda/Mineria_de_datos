{
 "cells": [
  {
   "cell_type": "markdown",
   "metadata": {},
   "source": [
    "# Examen 2: Ejercicios de Python.\n"
   ]
  },
  {
   "cell_type": "markdown",
   "metadata": {},
   "source": [
    "Al momento de responder las preguntas, cerciorense de que les imprima el resultado. "
   ]
  },
  {
   "cell_type": "markdown",
   "metadata": {},
   "source": [
    "### 1.- Dando lista A = [3, 2, 7, 4, 12, 9, 6, 1] desarrolla los siguientes 3 ejercicios.\n",
    "\n",
    "- Imprime la sumatoria de todos los elementos.\n",
    "- Ordenalos de mayor a menor.\n",
    "- Haz una nueva lista pero solo con sus elementos pares."
   ]
  },
  {
   "cell_type": "code",
   "execution_count": 10,
   "metadata": {},
   "outputs": [
    {
     "name": "stdout",
     "output_type": "stream",
     "text": [
      "[3, 2, 7, 4, 12, 9, 6, 1]\n"
     ]
    }
   ],
   "source": [
    "#(Puntos 5)\n",
    "# Imprime la sumatoria de todos los elementos en a = [3, 2, 7, 4, 12, 9, 6, 1].\n",
    "a = [3, 2, 7, 4, 12, 9, 6, 1]\n",
    "\n",
    "sum(a)"
   ]
  },
  {
   "cell_type": "code",
   "execution_count": 44,
   "metadata": {},
   "outputs": [
    {
     "data": {
      "text/plain": [
       "[12, 9, 7, 6, 4, 3, 2, 1]"
      ]
     },
     "execution_count": 44,
     "metadata": {},
     "output_type": "execute_result"
    }
   ],
   "source": [
    "#(Puntos 10)\n",
    "# Ordenalos de mayor a menor\n",
    "\n",
    "a.sort(reverse = True)\n",
    "a"
   ]
  },
  {
   "cell_type": "code",
   "execution_count": 32,
   "metadata": {},
   "outputs": [
    {
     "name": "stdout",
     "output_type": "stream",
     "text": [
      "[2, 4, 12, 6]\n"
     ]
    }
   ],
   "source": [
    "#(Puntos 10)\n",
    "# Haz una nueva lista pero solo con sus elementos pares\n",
    "num = 0\n",
    "c = []\n",
    "for x in range(0,8):\n",
    "    \n",
    "    if a[x] % 2 == 0:\n",
    "        \n",
    "        c.append(a[x])\n",
    "        num +=1\n",
    "print(c)"
   ]
  },
  {
   "cell_type": "markdown",
   "metadata": {},
   "source": [
    "### 2.- Dale valor a dos variables y realiza 5 funciones que regresen como resultado diferentes operaciones aritmeticas (suma, resta, etc...). "
   ]
  },
  {
   "cell_type": "code",
   "execution_count": 51,
   "metadata": {},
   "outputs": [
    {
     "name": "stdout",
     "output_type": "stream",
     "text": [
      "La suma es :  7\n",
      "la resta es : -1\n",
      "la multiplicacion es :  12\n",
      "La division es :  0.75\n",
      "La potencia es :  81\n"
     ]
    }
   ],
   "source": [
    "#(Puntos 15)\n",
    "a = 3\n",
    "b = 4\n",
    "\n",
    "print(\"La suma es : \", a+b)\n",
    "print(\"La resta es :\", a-b)\n",
    "print(\"La multiplicacion es : \", a*b)\n",
    "print(\"La division es : \", a/b)\n",
    "print(\"La potencia es : \", a ** b)\n"
   ]
  },
  {
   "cell_type": "markdown",
   "metadata": {},
   "source": [
    "### 3.- Dada la lista A = [3, 2, 7, 4, 12, 9, 6, 1] y lista B = [13, 16, 21, 34, 18, 17, 11, 10] crea una lista nueva que contenga solo los datos impares de ambas listas."
   ]
  },
  {
   "cell_type": "code",
   "execution_count": 71,
   "metadata": {},
   "outputs": [
    {
     "name": "stdout",
     "output_type": "stream",
     "text": [
      "[3, 2, 7, 4, 12, 9, 6, 1, 13, 16, 21, 34, 18, 17, 11, 10]\n",
      "[3, 7, 9, 1, 13, 21, 17, 11]\n"
     ]
    }
   ],
   "source": [
    "#(Puntos 15)\n",
    "A = [3, 2, 7, 4, 12, 9, 6, 1]\n",
    "B = [13, 16, 21, 34, 18, 17, 11, 10]\n",
    "c = []\n",
    "\n",
    "for x in range(0,len(B)):\n",
    "    \n",
    "    A.append(B[x])\n",
    "\n",
    "for i in range(0,len(A)):\n",
    "    \n",
    "    if A[i] % 2 != 0:\n",
    "        \n",
    "        c.append(A[i])\n",
    "        \n",
    "print(A)\n",
    "print(c)"
   ]
  },
  {
   "cell_type": "markdown",
   "metadata": {},
   "source": [
    "### 4.- Dadas las variables W = 11, X = 17, Y = 32, Z = 65, crea una función que clasifique por grupos de edad (niño, adolecente, adulto, adulto mayor. (Utiliza el elif)"
   ]
  },
  {
   "cell_type": "code",
   "execution_count": 107,
   "metadata": {},
   "outputs": [
    {
     "name": "stdout",
     "output_type": "stream",
     "text": [
      "ingresa la edad: 62\n",
      "Es un adulto mayor\n"
     ]
    }
   ],
   "source": [
    "#(Puntos 15)\n",
    "\n",
    "w= 11\n",
    "x = 17\n",
    "y = 32\n",
    "z = 65\n",
    "a = 0\n",
    "\n",
    "a = input (\"ingresa la edad: \")\n",
    "\n",
    "ed = int(a)\n",
    "\n",
    "if ed > 0 and ed <= w:\n",
    "        \n",
    "    print(\"Es un niño\")\n",
    "    \n",
    "elif ed > w and ed <= x:\n",
    "        \n",
    "    print(\"Es un adolecente\")\n",
    "    \n",
    "elif ed > x and ed <= y:\n",
    "        \n",
    "    print(\"Es un adulto\")\n",
    "    \n",
    "elif ed > y and ed <=z:\n",
    "        \n",
    "    print(\"Es un adulto mayor\")\n",
    "    \n",
    "else:\n",
    "        \n",
    "    print(\"ingrese la edad correcta\")\n",
    "        \n",
    "        "
   ]
  },
  {
   "cell_type": "markdown",
   "metadata": {},
   "source": [
    "### 5.- Utilizando cualquiera de las condicionales (for, if, while...) imprime los siguientes patrones tal y como aparecen en el comentario, respetando los espacios y los saltos de renglon.\n"
   ]
  },
  {
   "cell_type": "code",
   "execution_count": 210,
   "metadata": {},
   "outputs": [
    {
     "name": "stdout",
     "output_type": "stream",
     "text": [
      "\n",
      "1 \n",
      "2 2 \n",
      "3 3 3 \n",
      "4 4 4 4 \n",
      "5 5 5 5 5 "
     ]
    }
   ],
   "source": [
    "#(Puntos 10)\n",
    "#1 \n",
    "#2 2\n",
    "#3 3 3\n",
    "#4 4 4 4\n",
    "#5 5 5 5 5\n",
    "\n",
    "for i in range(1,6):\n",
    "    \n",
    "    print(\"\")\n",
    "    for j in range(1,i+1):\n",
    "        \n",
    "        print(i,end=\" \")\n"
   ]
  },
  {
   "cell_type": "code",
   "execution_count": 286,
   "metadata": {},
   "outputs": [
    {
     "name": "stdout",
     "output_type": "stream",
     "text": [
      " \n",
      "5 4 3 2 1  \n",
      "4 3 2 1  \n",
      "3 2 1  \n",
      "2 1  \n",
      "1 "
     ]
    }
   ],
   "source": [
    "#(Puntos 15)\n",
    "#5 4 3 2 1 \n",
    "#4 3 2 1\n",
    "#3 2 1 \n",
    "#2 1\n",
    "#1\n",
    "a = 6\n",
    "for i in range(1,6):\n",
    "    \n",
    "    print(\" \")\n",
    "    for j in range(1,a-i+1):\n",
    "        \n",
    "        print(a-i-j+1,end=\" \")\n",
    "        "
   ]
  },
  {
   "cell_type": "markdown",
   "metadata": {},
   "source": [
    "### 6.- Con la lista A = [3, 2, 7, 4, 12, 9, 6, 1] y el uso de condicionales, imprime una nueva lista con cada uno de los elementos de la lista A, al cuadrado."
   ]
  },
  {
   "cell_type": "code",
   "execution_count": 168,
   "metadata": {},
   "outputs": [
    {
     "name": "stdout",
     "output_type": "stream",
     "text": [
      "[3, 2, 7, 4, 12, 9, 6, 1]\n",
      "[9, 4, 49, 16, 144, 81, 36, 1]\n"
     ]
    }
   ],
   "source": [
    "#(Puntos 10)\n",
    "A = [3, 2, 7, 4, 12, 9, 6, 1] \n",
    "c = []\n",
    "len(A)\n",
    "\n",
    "for i in range(0,len(A)):\n",
    "    \n",
    "    c.append(A[i]**2)\n",
    "\n",
    "print(A)\n",
    "print(c)"
   ]
  },
  {
   "cell_type": "markdown",
   "metadata": {},
   "source": [
    "### (Extra puntos 5.) \n",
    "\n",
    "Conteste los tres puntos para obtener la totalidad de los puntos.\n",
    "*Mencione al menos 3 palabras reservadas para el lenguaje de programación de Python.\n",
    "*Describa la diferencia principal entre las listas y las tuplas en Python.\n",
    "*Describa para que sirve el condicional ELIF.\n"
   ]
  },
  {
   "cell_type": "markdown",
   "metadata": {},
   "source": [
    "- for , while, if\n",
    "- las listas se pueden modificar, mientras que las tuplas no se puede modificar\n",
    "- El condicional ELIF sirve para agregar otro condicional aparte del IF en caso de que no se cumpla el primero"
   ]
  },
  {
   "cell_type": "code",
   "execution_count": null,
   "metadata": {},
   "outputs": [],
   "source": []
  }
 ],
 "metadata": {
  "kernelspec": {
   "display_name": "Python 3",
   "language": "python",
   "name": "python3"
  },
  "language_info": {
   "codemirror_mode": {
    "name": "ipython",
    "version": 3
   },
   "file_extension": ".py",
   "mimetype": "text/x-python",
   "name": "python",
   "nbconvert_exporter": "python",
   "pygments_lexer": "ipython3",
   "version": "3.7.4"
  }
 },
 "nbformat": 4,
 "nbformat_minor": 2
}
