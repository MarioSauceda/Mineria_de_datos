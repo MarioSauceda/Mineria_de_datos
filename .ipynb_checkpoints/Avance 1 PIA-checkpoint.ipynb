{
 "cells": [
  {
   "cell_type": "markdown",
   "metadata": {},
   "source": [
    "# Suicidios por el metodo descriptivo \n",
    "\n",
    "### Equipo 2\n",
    "\n",
    "* Antonio Mendoza Lopez\n",
    "* Jesus Mario Sauceda Flores\n",
    "\n",
    "### Objetivo.\n",
    "\n",
    "Se planea saber en que rangos de edades se suicidan más las personas en México.\n",
    "\n",
    "### Preguntas de Interés.\n",
    "* ¿En que rangos de edades son más comunes los suicidios?\n",
    "* ¿En que generacion se contempla la mayor concentracion de suicidios?\n",
    "\n",
    "### Introducción.\n",
    "\n",
    "La base de datos esta orientada al numero de suicidios que han ocurrido desde 1985 hasta 2016, y viene categorizado por el país donde ocurren los suicidios, el rango de edad, numero de habitantes, sexo, ingreso per capito, producto interno bruto de país, generacio y suicidios por cada 100,000 habitantes, en lo que nos enfocaremos principalmente son en los rangos de edades, ya que queremos saber si la edad afecta en la cantidad de suicidos que existen.\n",
    "\n",
    "### Procesamiento de los Datos.\n",
    "\n",
    "Importar las librerías."
   ]
  },
  {
   "cell_type": "code",
   "execution_count": 2,
   "metadata": {},
   "outputs": [],
   "source": [
    "import pandas as pd \n",
    "import numpy as np\n",
    "import matplotlib as plt\n",
    "from matplotlib import pylab, mlab, pyplot\n",
    "plt = pyplot\n",
    "import openpyxl\n",
    "%matplotlib inline\n",
    "from pylab import *\n",
    "import seaborn as sns"
   ]
  },
  {
   "cell_type": "markdown",
   "metadata": {},
   "source": [
    "Cargamos nuestra base de datos."
   ]
  },
  {
   "cell_type": "code",
   "execution_count": 3,
   "metadata": {},
   "outputs": [
    {
     "data": {
      "text/html": [
       "<div>\n",
       "<style scoped>\n",
       "    .dataframe tbody tr th:only-of-type {\n",
       "        vertical-align: middle;\n",
       "    }\n",
       "\n",
       "    .dataframe tbody tr th {\n",
       "        vertical-align: top;\n",
       "    }\n",
       "\n",
       "    .dataframe thead th {\n",
       "        text-align: right;\n",
       "    }\n",
       "</style>\n",
       "<table border=\"1\" class=\"dataframe\">\n",
       "  <thead>\n",
       "    <tr style=\"text-align: right;\">\n",
       "      <th></th>\n",
       "      <th>country</th>\n",
       "      <th>year</th>\n",
       "      <th>sex</th>\n",
       "      <th>age</th>\n",
       "      <th>suicides_no</th>\n",
       "      <th>population</th>\n",
       "      <th>suicides/100k pop</th>\n",
       "      <th>country-year</th>\n",
       "      <th>HDI for year</th>\n",
       "      <th>gdp_for_year ($)</th>\n",
       "      <th>gdp_per_capita ($)</th>\n",
       "      <th>generation</th>\n",
       "      <th>Continent</th>\n",
       "    </tr>\n",
       "  </thead>\n",
       "  <tbody>\n",
       "    <tr>\n",
       "      <td>0</td>\n",
       "      <td>Albania</td>\n",
       "      <td>1987</td>\n",
       "      <td>male</td>\n",
       "      <td>15-24 years</td>\n",
       "      <td>21</td>\n",
       "      <td>312900</td>\n",
       "      <td>6.71</td>\n",
       "      <td>Albania1987</td>\n",
       "      <td>NaN</td>\n",
       "      <td>2156624900</td>\n",
       "      <td>796</td>\n",
       "      <td>Generation X</td>\n",
       "      <td>Europe</td>\n",
       "    </tr>\n",
       "    <tr>\n",
       "      <td>1</td>\n",
       "      <td>Albania</td>\n",
       "      <td>1987</td>\n",
       "      <td>male</td>\n",
       "      <td>35-54 years</td>\n",
       "      <td>16</td>\n",
       "      <td>308000</td>\n",
       "      <td>5.19</td>\n",
       "      <td>Albania1987</td>\n",
       "      <td>NaN</td>\n",
       "      <td>2156624900</td>\n",
       "      <td>796</td>\n",
       "      <td>Silent</td>\n",
       "      <td>Europe</td>\n",
       "    </tr>\n",
       "    <tr>\n",
       "      <td>2</td>\n",
       "      <td>Albania</td>\n",
       "      <td>1987</td>\n",
       "      <td>female</td>\n",
       "      <td>15-24 years</td>\n",
       "      <td>14</td>\n",
       "      <td>289700</td>\n",
       "      <td>4.83</td>\n",
       "      <td>Albania1987</td>\n",
       "      <td>NaN</td>\n",
       "      <td>2156624900</td>\n",
       "      <td>796</td>\n",
       "      <td>Generation X</td>\n",
       "      <td>Europe</td>\n",
       "    </tr>\n",
       "    <tr>\n",
       "      <td>3</td>\n",
       "      <td>Albania</td>\n",
       "      <td>1987</td>\n",
       "      <td>male</td>\n",
       "      <td>75+ years</td>\n",
       "      <td>1</td>\n",
       "      <td>21800</td>\n",
       "      <td>4.59</td>\n",
       "      <td>Albania1987</td>\n",
       "      <td>NaN</td>\n",
       "      <td>2156624900</td>\n",
       "      <td>796</td>\n",
       "      <td>G.I. Generation</td>\n",
       "      <td>Europe</td>\n",
       "    </tr>\n",
       "    <tr>\n",
       "      <td>4</td>\n",
       "      <td>Albania</td>\n",
       "      <td>1987</td>\n",
       "      <td>male</td>\n",
       "      <td>25-34 years</td>\n",
       "      <td>9</td>\n",
       "      <td>274300</td>\n",
       "      <td>3.28</td>\n",
       "      <td>Albania1987</td>\n",
       "      <td>NaN</td>\n",
       "      <td>2156624900</td>\n",
       "      <td>796</td>\n",
       "      <td>Boomers</td>\n",
       "      <td>Europe</td>\n",
       "    </tr>\n",
       "  </tbody>\n",
       "</table>\n",
       "</div>"
      ],
      "text/plain": [
       "   country  year     sex          age  suicides_no  population  \\\n",
       "0  Albania  1987    male  15-24 years           21      312900   \n",
       "1  Albania  1987    male  35-54 years           16      308000   \n",
       "2  Albania  1987  female  15-24 years           14      289700   \n",
       "3  Albania  1987    male    75+ years            1       21800   \n",
       "4  Albania  1987    male  25-34 years            9      274300   \n",
       "\n",
       "   suicides/100k pop country-year  HDI for year  gdp_for_year ($)   \\\n",
       "0               6.71  Albania1987           NaN         2156624900   \n",
       "1               5.19  Albania1987           NaN         2156624900   \n",
       "2               4.83  Albania1987           NaN         2156624900   \n",
       "3               4.59  Albania1987           NaN         2156624900   \n",
       "4               3.28  Albania1987           NaN         2156624900   \n",
       "\n",
       "   gdp_per_capita ($)       generation Continent  \n",
       "0                 796     Generation X    Europe  \n",
       "1                 796           Silent    Europe  \n",
       "2                 796     Generation X    Europe  \n",
       "3                 796  G.I. Generation    Europe  \n",
       "4                 796          Boomers    Europe  "
      ]
     },
     "execution_count": 3,
     "metadata": {},
     "output_type": "execute_result"
    }
   ],
   "source": [
    "datos = pd.read_excel(\"/Users/jesus.sauceda/Desktop/Mario/TAREAS ESCUELA/Mineria de datos 7to semestre/base de datos (suicidios) pia.xlsx\")\n",
    "datos.head()"
   ]
  },
  {
   "cell_type": "code",
   "execution_count": 4,
   "metadata": {},
   "outputs": [
    {
     "data": {
      "text/plain": [
       "(27820, 13)"
      ]
     },
     "execution_count": 4,
     "metadata": {},
     "output_type": "execute_result"
    }
   ],
   "source": [
    "datos.shape"
   ]
  },
  {
   "cell_type": "code",
   "execution_count": 5,
   "metadata": {},
   "outputs": [
    {
     "data": {
      "text/plain": [
       "country                object\n",
       "year                    int64\n",
       "sex                    object\n",
       "age                    object\n",
       "suicides_no             int64\n",
       "population              int64\n",
       "suicides/100k pop     float64\n",
       "country-year           object\n",
       "HDI for year          float64\n",
       "gdp_for_year ($)        int64\n",
       "gdp_per_capita ($)      int64\n",
       "generation             object\n",
       "Continent              object\n",
       "dtype: object"
      ]
     },
     "execution_count": 5,
     "metadata": {},
     "output_type": "execute_result"
    }
   ],
   "source": [
    "datos.dtypes"
   ]
  },
  {
   "cell_type": "markdown",
   "metadata": {},
   "source": [
    "Tenemos un total de 27,820 filas pero nosotros solo requerimos las que incluyen a México, de igual manera no son necesarias todas las columnas solo dejaremos, el año el sexo, rango de edad, población y generación."
   ]
  },
  {
   "cell_type": "code",
   "execution_count": 6,
   "metadata": {},
   "outputs": [],
   "source": [
    "daton=datos.drop([\"gdp_per_capita ($)\",\"suicides/100k pop\",\"country-year\",\"HDI for year\",\"gdp_for_year ($) \",\"Continent\"],axis=1)\n"
   ]
  },
  {
   "cell_type": "markdown",
   "metadata": {},
   "source": [
    "Ahora tenemos la base de datos modificada, ahora solo falta mostrar los datos de México."
   ]
  },
  {
   "cell_type": "code",
   "execution_count": 7,
   "metadata": {},
   "outputs": [
    {
     "data": {
      "text/html": [
       "<div>\n",
       "<style scoped>\n",
       "    .dataframe tbody tr th:only-of-type {\n",
       "        vertical-align: middle;\n",
       "    }\n",
       "\n",
       "    .dataframe tbody tr th {\n",
       "        vertical-align: top;\n",
       "    }\n",
       "\n",
       "    .dataframe thead th {\n",
       "        text-align: right;\n",
       "    }\n",
       "</style>\n",
       "<table border=\"1\" class=\"dataframe\">\n",
       "  <thead>\n",
       "    <tr style=\"text-align: right;\">\n",
       "      <th></th>\n",
       "      <th>country</th>\n",
       "      <th>year</th>\n",
       "      <th>sex</th>\n",
       "      <th>age</th>\n",
       "      <th>suicides_no</th>\n",
       "      <th>population</th>\n",
       "      <th>generation</th>\n",
       "    </tr>\n",
       "  </thead>\n",
       "  <tbody>\n",
       "    <tr>\n",
       "      <td>0</td>\n",
       "      <td>Albania</td>\n",
       "      <td>1987</td>\n",
       "      <td>male</td>\n",
       "      <td>15-24 years</td>\n",
       "      <td>21</td>\n",
       "      <td>312900</td>\n",
       "      <td>Generation X</td>\n",
       "    </tr>\n",
       "    <tr>\n",
       "      <td>1</td>\n",
       "      <td>Albania</td>\n",
       "      <td>1987</td>\n",
       "      <td>male</td>\n",
       "      <td>35-54 years</td>\n",
       "      <td>16</td>\n",
       "      <td>308000</td>\n",
       "      <td>Silent</td>\n",
       "    </tr>\n",
       "    <tr>\n",
       "      <td>2</td>\n",
       "      <td>Albania</td>\n",
       "      <td>1987</td>\n",
       "      <td>female</td>\n",
       "      <td>15-24 years</td>\n",
       "      <td>14</td>\n",
       "      <td>289700</td>\n",
       "      <td>Generation X</td>\n",
       "    </tr>\n",
       "    <tr>\n",
       "      <td>3</td>\n",
       "      <td>Albania</td>\n",
       "      <td>1987</td>\n",
       "      <td>male</td>\n",
       "      <td>75+ years</td>\n",
       "      <td>1</td>\n",
       "      <td>21800</td>\n",
       "      <td>G.I. Generation</td>\n",
       "    </tr>\n",
       "    <tr>\n",
       "      <td>4</td>\n",
       "      <td>Albania</td>\n",
       "      <td>1987</td>\n",
       "      <td>male</td>\n",
       "      <td>25-34 years</td>\n",
       "      <td>9</td>\n",
       "      <td>274300</td>\n",
       "      <td>Boomers</td>\n",
       "    </tr>\n",
       "  </tbody>\n",
       "</table>\n",
       "</div>"
      ],
      "text/plain": [
       "   country  year     sex          age  suicides_no  population  \\\n",
       "0  Albania  1987    male  15-24 years           21      312900   \n",
       "1  Albania  1987    male  35-54 years           16      308000   \n",
       "2  Albania  1987  female  15-24 years           14      289700   \n",
       "3  Albania  1987    male    75+ years            1       21800   \n",
       "4  Albania  1987    male  25-34 years            9      274300   \n",
       "\n",
       "        generation  \n",
       "0     Generation X  \n",
       "1           Silent  \n",
       "2     Generation X  \n",
       "3  G.I. Generation  \n",
       "4          Boomers  "
      ]
     },
     "execution_count": 7,
     "metadata": {},
     "output_type": "execute_result"
    }
   ],
   "source": [
    "daton.head()"
   ]
  },
  {
   "cell_type": "code",
   "execution_count": 8,
   "metadata": {},
   "outputs": [],
   "source": [
    "solomex=daton[daton[\"country\"]==\"Mexico\"]"
   ]
  },
  {
   "cell_type": "code",
   "execution_count": 9,
   "metadata": {},
   "outputs": [
    {
     "data": {
      "text/html": [
       "<div>\n",
       "<style scoped>\n",
       "    .dataframe tbody tr th:only-of-type {\n",
       "        vertical-align: middle;\n",
       "    }\n",
       "\n",
       "    .dataframe tbody tr th {\n",
       "        vertical-align: top;\n",
       "    }\n",
       "\n",
       "    .dataframe thead th {\n",
       "        text-align: right;\n",
       "    }\n",
       "</style>\n",
       "<table border=\"1\" class=\"dataframe\">\n",
       "  <thead>\n",
       "    <tr style=\"text-align: right;\">\n",
       "      <th></th>\n",
       "      <th>country</th>\n",
       "      <th>year</th>\n",
       "      <th>sex</th>\n",
       "      <th>age</th>\n",
       "      <th>suicides_no</th>\n",
       "      <th>population</th>\n",
       "      <th>generation</th>\n",
       "    </tr>\n",
       "  </thead>\n",
       "  <tbody>\n",
       "    <tr>\n",
       "      <td>16564</td>\n",
       "      <td>Mexico</td>\n",
       "      <td>1985</td>\n",
       "      <td>male</td>\n",
       "      <td>75+ years</td>\n",
       "      <td>44</td>\n",
       "      <td>432000</td>\n",
       "      <td>G.I. Generation</td>\n",
       "    </tr>\n",
       "    <tr>\n",
       "      <td>16565</td>\n",
       "      <td>Mexico</td>\n",
       "      <td>1985</td>\n",
       "      <td>male</td>\n",
       "      <td>55-74 years</td>\n",
       "      <td>145</td>\n",
       "      <td>2330000</td>\n",
       "      <td>G.I. Generation</td>\n",
       "    </tr>\n",
       "    <tr>\n",
       "      <td>16566</td>\n",
       "      <td>Mexico</td>\n",
       "      <td>1985</td>\n",
       "      <td>male</td>\n",
       "      <td>25-34 years</td>\n",
       "      <td>340</td>\n",
       "      <td>5679000</td>\n",
       "      <td>Boomers</td>\n",
       "    </tr>\n",
       "    <tr>\n",
       "      <td>16567</td>\n",
       "      <td>Mexico</td>\n",
       "      <td>1985</td>\n",
       "      <td>male</td>\n",
       "      <td>35-54 years</td>\n",
       "      <td>327</td>\n",
       "      <td>5836000</td>\n",
       "      <td>Silent</td>\n",
       "    </tr>\n",
       "    <tr>\n",
       "      <td>16568</td>\n",
       "      <td>Mexico</td>\n",
       "      <td>1985</td>\n",
       "      <td>male</td>\n",
       "      <td>15-24 years</td>\n",
       "      <td>375</td>\n",
       "      <td>8420000</td>\n",
       "      <td>Generation X</td>\n",
       "    </tr>\n",
       "  </tbody>\n",
       "</table>\n",
       "</div>"
      ],
      "text/plain": [
       "      country  year   sex          age  suicides_no  population  \\\n",
       "16564  Mexico  1985  male    75+ years           44      432000   \n",
       "16565  Mexico  1985  male  55-74 years          145     2330000   \n",
       "16566  Mexico  1985  male  25-34 years          340     5679000   \n",
       "16567  Mexico  1985  male  35-54 years          327     5836000   \n",
       "16568  Mexico  1985  male  15-24 years          375     8420000   \n",
       "\n",
       "            generation  \n",
       "16564  G.I. Generation  \n",
       "16565  G.I. Generation  \n",
       "16566          Boomers  \n",
       "16567           Silent  \n",
       "16568     Generation X  "
      ]
     },
     "execution_count": 9,
     "metadata": {},
     "output_type": "execute_result"
    }
   ],
   "source": [
    "solomex.head()"
   ]
  },
  {
   "cell_type": "code",
   "execution_count": 10,
   "metadata": {},
   "outputs": [
    {
     "data": {
      "text/plain": [
       "(372, 7)"
      ]
     },
     "execution_count": 10,
     "metadata": {},
     "output_type": "execute_result"
    }
   ],
   "source": [
    "solomex.shape"
   ]
  },
  {
   "cell_type": "markdown",
   "metadata": {},
   "source": [
    "Ahora tenemos la base de datos modificada con los datos que necesitamos para nuestro proyecto."
   ]
  },
  {
   "cell_type": "markdown",
   "metadata": {},
   "source": [
    "cambiamos el nombre de las columnas para poder trabajar mejor los datos"
   ]
  },
  {
   "cell_type": "code",
   "execution_count": 11,
   "metadata": {
    "scrolled": true
   },
   "outputs": [],
   "source": [
    "#solomex.rename(columns = {'country':'Pais','year':'Año','sex':'sexo','suicides_no':'Numero de suicidios','population':'Poblacion','generation':'Generacion','age':'Edad'})"
   ]
  },
  {
   "cell_type": "markdown",
   "metadata": {},
   "source": [
    "buscaremos cuantos suicidios ocurrieron en el lado femenino como en el lado masculino"
   ]
  },
  {
   "cell_type": "code",
   "execution_count": 12,
   "metadata": {},
   "outputs": [],
   "source": [
    "doc = openpyxl.load_workbook('/Users/jesus.sauceda/Desktop/Mario/TAREAS ESCUELA/Mineria de datos 7to semestre/base de datos (suicidios) pia.xlsx')"
   ]
  },
  {
   "cell_type": "markdown",
   "metadata": {},
   "source": [
    "con el siguiente codigo tenemos el nombre de la hoja"
   ]
  },
  {
   "cell_type": "code",
   "execution_count": 13,
   "metadata": {},
   "outputs": [
    {
     "name": "stderr",
     "output_type": "stream",
     "text": [
      "C:\\Users\\jesus.sauceda\\AppData\\Local\\Continuum\\anaconda3\\lib\\site-packages\\ipykernel_launcher.py:1: DeprecationWarning: Call to deprecated function get_sheet_names (Use wb.sheetnames).\n",
      "  \"\"\"Entry point for launching an IPython kernel.\n"
     ]
    },
    {
     "data": {
      "text/plain": [
       "['Suicide data with Continent']"
      ]
     },
     "execution_count": 13,
     "metadata": {},
     "output_type": "execute_result"
    }
   ],
   "source": [
    "doc.get_sheet_names()\n",
    "#hombre = solomex.get_sheet_by_name('Suicide data with Continent')\n",
    "#hombre.title"
   ]
  },
  {
   "cell_type": "markdown",
   "metadata": {},
   "source": [
    "asignamos el nombre de la hoja a una nueva variable"
   ]
  },
  {
   "cell_type": "code",
   "execution_count": 14,
   "metadata": {
    "scrolled": true
   },
   "outputs": [
    {
     "name": "stderr",
     "output_type": "stream",
     "text": [
      "C:\\Users\\jesus.sauceda\\AppData\\Local\\Continuum\\anaconda3\\lib\\site-packages\\ipykernel_launcher.py:1: DeprecationWarning: Call to deprecated function get_sheet_by_name (Use wb[sheetname]).\n",
      "  \"\"\"Entry point for launching an IPython kernel.\n"
     ]
    }
   ],
   "source": [
    "hoja = doc.get_sheet_by_name('Suicide data with Continent')"
   ]
  },
  {
   "cell_type": "markdown",
   "metadata": {},
   "source": [
    "En el siguiente codigo sirve para poder distribuir el numero de fallecidos dependiendo si es hombre o es mujer"
   ]
  },
  {
   "cell_type": "code",
   "execution_count": 15,
   "metadata": {},
   "outputs": [
    {
     "name": "stdout",
     "output_type": "stream",
     "text": [
      "estos son las cantidades de suicidios en hombres :  91805\n",
      "estos son las cantidades de suicidios en mujeres :  19334\n"
     ]
    }
   ],
   "source": [
    "filas = hoja.max_row\n",
    "hombre = 0\n",
    "mujer = 0\n",
    "\n",
    "for n in range(1,filas):\n",
    "    \n",
    "    if hoja.cell(column = 1, row = n).value == \"Mexico\":\n",
    "        \n",
    "        if hoja.cell(column = 3, row = n).value == \"male\":\n",
    "            \n",
    "            hombre = hoja.cell(column = 5, row = n).value + hombre\n",
    "            \n",
    "        else:\n",
    "            \n",
    "            mujer = hoja.cell(column = 5, row = n).value + mujer\n",
    "        \n",
    "print(\"estos son las cantidades de suicidios en hombres : \" ,hombre)\n",
    "print(\"estos son las cantidades de suicidios en mujeres : \" ,mujer)\n",
    "    \n"
   ]
  },
  {
   "cell_type": "code",
   "execution_count": 16,
   "metadata": {
    "scrolled": false
   },
   "outputs": [
    {
     "data": {
      "text/plain": [
       "Text(0.5, 0, 'Sexo')"
      ]
     },
     "execution_count": 16,
     "metadata": {},
     "output_type": "execute_result"
    },
    {
     "data": {
      "image/png": "[encoded data removed]",
      "text/plain": [
       "<Figure size 432x288 with 1 Axes>"
      ]
     },
     "metadata": {
      "needs_background": "light"
     },
     "output_type": "display_data"
    }
   ],
   "source": [
    "fig,ax =  plt.subplots()\n",
    "\n",
    "ax.bar((\"Hombre\",\"Mujer\"),(hombre,mujer),align = \"center\", width = 0.8, alpha = 0.6)\n",
    "ax.set_title (\"Suicidios en base al sexo\")\n",
    "ax.set_ylabel(\"Num Suicidios\")\n",
    "ax.set_xlabel(\"Sexo\")"
   ]
  },
  {
   "cell_type": "code",
   "execution_count": 17,
   "metadata": {},
   "outputs": [
    {
     "name": "stdout",
     "output_type": "stream",
     "text": [
      "<bound method Series.min of 16564    1985\n",
      "16565    1985\n",
      "16566    1985\n",
      "16567    1985\n",
      "16568    1985\n",
      "         ... \n",
      "16931    2015\n",
      "16932    2015\n",
      "16933    2015\n",
      "16934    2015\n",
      "16935    2015\n",
      "Name: year, Length: 372, dtype: int64>\n"
     ]
    }
   ],
   "source": [
    "print (solomex['year'].min)"
   ]
  },
  {
   "cell_type": "markdown",
   "metadata": {},
   "source": [
    "Podemos observar que la cantidad de suicidios ocasionados en mexico entre el periodo de 1985 hasta el 2015 fue por parte de los hombres 91,805 suicidios, en cambio las mujeres fueron 19,334 suicidios."
   ]
  },
  {
   "cell_type": "code",
   "execution_count": 18,
   "metadata": {},
   "outputs": [
    {
     "name": "stdout",
     "output_type": "stream",
     "text": [
      "estos son las cantidades de suicidios en la Generacion Boomers :  25466\n",
      "estos son las cantidades de suicidios en la Genereacion Silent :  12948\n",
      "estos son las cantidades de suicidios en la Generacion X :  38546\n",
      "estos son las cantidades de suicidios en la Genereacion G.I. Generation :  2772\n",
      "estos son las cantidades de suicidios en la Genereacion Millenials :  29628\n",
      "estos son las cantidades de suicidios en la Genereacion Z :  1779\n"
     ]
    }
   ],
   "source": [
    "filas = hoja.max_row\n",
    "Boomers = 0\n",
    "Silent = 0\n",
    "GenerationX = 0\n",
    "Millenials = 0\n",
    "G = 0\n",
    "z = 0\n",
    "\n",
    "for n in range(1,filas):\n",
    "    \n",
    "    if hoja.cell(column = 1, row = n).value == \"Mexico\":\n",
    "        \n",
    "        if hoja.cell(column = 12, row = n).value == \"Boomers\":\n",
    "            \n",
    "            Boomers = hoja.cell(column = 5, row = n).value + Boomers\n",
    "            \n",
    "        elif hoja.cell(column = 12, row = n).value == \"Silent\":\n",
    "            \n",
    "            Silent = hoja.cell(column = 5, row = n).value + Silent\n",
    "            \n",
    "        elif hoja.cell(column = 12, row = n).value == \"Generation X\":\n",
    "            \n",
    "            GenerationX = hoja.cell(column = 5, row = n).value + GenerationX\n",
    "        \n",
    "        elif hoja.cell(column = 12, row = n).value == \"Millenials\":\n",
    "            \n",
    "            Millenials = hoja.cell(column = 5, row = n).value + Millenials\n",
    "            \n",
    "        elif hoja.cell(column = 12, row = n).value == \"G.I. Generation\":\n",
    "            \n",
    "            G = hoja.cell(column = 5, row = n).value + G\n",
    "        \n",
    "        elif hoja.cell(column = 12, row = n).value == \"Generation Z\":\n",
    "            \n",
    "            z = hoja.cell(column = 5, row = n).value + z\n",
    "                    \n",
    "        \n",
    "\n",
    "            \n",
    "print(\"estos son las cantidades de suicidios en la Generacion Boomers : \" ,Boomers)\n",
    "print(\"estos son las cantidades de suicidios en la Genereacion Silent : \" ,Silent)\n",
    "print(\"estos son las cantidades de suicidios en la Generacion X : \" ,GenerationX)\n",
    "print(\"estos son las cantidades de suicidios en la Genereacion G.I. Generation : \",G)\n",
    "print(\"estos son las cantidades de suicidios en la Genereacion Millenials : \" ,Millenials)\n",
    "print(\"estos son las cantidades de suicidios en la Genereacion Z : \" ,z)    "
   ]
  },
  {
   "cell_type": "code",
   "execution_count": 19,
   "metadata": {
    "scrolled": true
   },
   "outputs": [
    {
     "data": {
      "text/plain": [
       "Text(0, 0.5, 'Num Suicidios')"
      ]
     },
     "execution_count": 19,
     "metadata": {},
     "output_type": "execute_result"
    },
    {
     "data": {
      "image/png": "[encoded data removed]",
      "text/plain": [
       "<Figure size 720x288 with 1 Axes>"
      ]
     },
     "metadata": {
      "needs_background": "light"
     },
     "output_type": "display_data"
    }
   ],
   "source": [
    "fig, ex = plt.subplots(figsize=(10,4))\n",
    "\n",
    "ex.bar((\"Boomers\",\"Silent\",\"X\", \"G.I.\",\"Millenials\",\"Z\"),(Boomers,Silent,GenerationX,G,Millenials,z),align=\"center\",width = 0.6,color = \"c\")\n",
    "ex.set_title(\"Suicidios Por Generacion\")\n",
    "ex.set_xlabel(\"Generaciones\")\n",
    "ex.set_ylabel(\"Num Suicidios\")"
   ]
  },
  {
   "cell_type": "markdown",
   "metadata": {},
   "source": [
    "En este graficos nos podemos dar la idea de la cantidad de suicidios que se generaron dependiendo la generacion.\n",
    "la Generacion que tuvo mas impacto en cuanto a los suicidos vemos que fue la Generacion X con una cantidad de 38,546 suicidios y la que menos suicidios tuvo fue la generacion Z con una cantidad de 1,779 suicidios"
   ]
  },
  {
   "cell_type": "markdown",
   "metadata": {},
   "source": [
    "Con este segundo grafico podemos contestar la segunda pregunta de interes acerca de la cantidad de suicidios que hubo por generacion, como ya mencionado en el grafico anterior se concluyo que la mayor concentracion de suicidios fue en la generacion X y esto se debe a que dicha generacion estuvo en constantes cambio de tecnologia, tambien fue la generacion del divorcio, las madres solteras, los nuevos nucleos familiares (ejemplo: hombre-hombre)y fue una generacion que estuvo en constante lucha contra la depresion por esas causas y muchas, es la cantidad de suicidios"
   ]
  },
  {
   "cell_type": "markdown",
   "metadata": {},
   "source": [
    "Lo que haremos ahora es hacer un grafico munidal dividido por las mismas 6 generaciones para observar el comportamiento, y ver si tiene alguna similitud respecto al Grafico de Mexico"
   ]
  },
  {
   "cell_type": "code",
   "execution_count": 20,
   "metadata": {},
   "outputs": [
    {
     "name": "stdout",
     "output_type": "stream",
     "text": [
      "estos son las cantidades de suicidios en la Generacion Boomers :  2284477\n",
      "estos son las cantidades de suicidios en la Genereacion Silent :  1781744\n",
      "estos son las cantidades de suicidios en la Generacion X :  1532804\n",
      "estos son las cantidades de suicidios en la Genereacion G.I. Generation :  510009\n",
      "estos son las cantidades de suicidios en la Genereacion Millenials :  623459\n",
      "estos son las cantidades de suicidios en la Genereacion Z :  15906\n"
     ]
    }
   ],
   "source": [
    "filas = hoja.max_row\n",
    "Boomers = 0\n",
    "Silent = 0\n",
    "GenerationX = 0\n",
    "Millenials = 0\n",
    "G = 0\n",
    "z = 0\n",
    "\n",
    "for n in range(1,filas):\n",
    "          \n",
    "        if hoja.cell(column = 12, row = n).value == \"Boomers\":\n",
    "            \n",
    "            Boomers = hoja.cell(column = 5, row = n).value + Boomers\n",
    "            \n",
    "        elif hoja.cell(column = 12, row = n).value == \"Silent\":\n",
    "            \n",
    "            Silent = hoja.cell(column = 5, row = n).value + Silent\n",
    "            \n",
    "        elif hoja.cell(column = 12, row = n).value == \"Generation X\":\n",
    "            \n",
    "            GenerationX = hoja.cell(column = 5, row = n).value + GenerationX\n",
    "        \n",
    "        elif hoja.cell(column = 12, row = n).value == \"Millenials\":\n",
    "            \n",
    "            Millenials = hoja.cell(column = 5, row = n).value + Millenials\n",
    "            \n",
    "        elif hoja.cell(column = 12, row = n).value == \"G.I. Generation\":\n",
    "            \n",
    "            G = hoja.cell(column = 5, row = n).value + G\n",
    "        \n",
    "        elif hoja.cell(column = 12, row = n).value == \"Generation Z\":\n",
    "            \n",
    "            z = hoja.cell(column = 5, row = n).value + z\n",
    "                    \n",
    "print(\"estos son las cantidades de suicidios en la Generacion Boomers : \" ,Boomers)\n",
    "print(\"estos son las cantidades de suicidios en la Genereacion Silent : \" ,Silent)\n",
    "print(\"estos son las cantidades de suicidios en la Generacion X : \" ,GenerationX)\n",
    "print(\"estos son las cantidades de suicidios en la Genereacion G.I. Generation : \",G)\n",
    "print(\"estos son las cantidades de suicidios en la Genereacion Millenials : \" ,Millenials)\n",
    "print(\"estos son las cantidades de suicidios en la Genereacion Z : \" ,z)    "
   ]
  },
  {
   "cell_type": "code",
   "execution_count": 21,
   "metadata": {
    "scrolled": false
   },
   "outputs": [
    {
     "data": {
      "text/plain": [
       "Text(0, 0.5, 'Num Suicidios')"
      ]
     },
     "execution_count": 21,
     "metadata": {},
     "output_type": "execute_result"
    },
    {
     "data": {
      "image/png": "[encoded data removed]",
      "text/plain": [
       "<Figure size 720x360 with 1 Axes>"
      ]
     },
     "metadata": {
      "needs_background": "light"
     },
     "output_type": "display_data"
    }
   ],
   "source": [
    "fig,mundial = plt.subplots(figsize=(10,5))\n",
    "\n",
    "mundial.bar((\"Boomers\",\"Silent\",\"X\", \"G.I.\",\"Millenials\",\"Z\"),(Boomers,Silent,GenerationX,G,Millenials,z),align=\"center\",width = 0.6,color = \"c\")\n",
    "mundial.set_title(\"Suicidios Por Generacion\")\n",
    "mundial.set_xlabel(\"Generaciones\")\n",
    "mundial.set_ylabel(\"Num Suicidios\")\n"
   ]
  },
  {
   "cell_type": "markdown",
   "metadata": {},
   "source": [
    "Bueno, como podemos ver en este grafico de Nivel Mundial la generacion mas afectada fueron los baby boomers conocidos asi por la cantidad de bebes que llegaron a la tierra fueron aproximadamente 76.4 millones de bebes pero la pregunta seria porque fue la mas afectada en cuanto a los suicidios, tuvo eventos muy significativos por ejemplo : La Guerra Fria, Los asesinatos de Martin luther king Jr y De John F Kennedy y Los movimientos por los derechos civiles entre otro acontecimientos importantes, estos datos fueron presentados para tener una vision sobre el impacto de las Generaciones alrededor del mundo y ver como la generacion X no fue la mas importante en cuanto al punto de vista de los suicidios"
   ]
  },
  {
   "cell_type": "markdown",
   "metadata": {},
   "source": [
    "En el siguiente grafico nos centraremos en los suicidios de hombres y mujeres de la generacion X ubicados en Mexico"
   ]
  },
  {
   "cell_type": "code",
   "execution_count": 22,
   "metadata": {},
   "outputs": [
    {
     "name": "stdout",
     "output_type": "stream",
     "text": [
      "Los suicidios de hombres fueron :  32110\n",
      "Los suicidios de mujeres fueron :  6436\n"
     ]
    }
   ],
   "source": [
    "filas = hoja.max_row\n",
    "hombre = 0\n",
    "mujer = 0\n",
    "\n",
    "for n in range(1,filas):\n",
    "    \n",
    "    if hoja.cell(column = 1, row = n).value == \"Mexico\":\n",
    "        \n",
    "        if hoja.cell(column = 12, row = n).value == \"Generation X\":\n",
    "            \n",
    "            if hoja.cell(column = 3,row = n).value == \"male\":\n",
    "                \n",
    "                hombre = hoja.cell(column = 5, row = n).value + hombre\n",
    "                \n",
    "            elif hoja.cell(column = 3, row = n).value == \"female\":\n",
    "                \n",
    "                mujer += hoja.cell(column = 5, row = n).value\n",
    "        \n",
    "        \n",
    "\n",
    "print(\"Los suicidios de hombres fueron : \", hombre)\n",
    "print(\"Los suicidios de mujeres fueron : \", mujer)"
   ]
  },
  {
   "cell_type": "code",
   "execution_count": 23,
   "metadata": {},
   "outputs": [
    {
     "data": {
      "text/plain": [
       "<BarContainer object of 2 artists>"
      ]
     },
     "execution_count": 23,
     "metadata": {},
     "output_type": "execute_result"
    },
    {
     "data": {
      "image/png": "[encoded data removed]",
      "text/plain": [
       "<Figure size 432x288 with 1 Axes>"
      ]
     },
     "metadata": {
      "needs_background": "light"
     },
     "output_type": "display_data"
    }
   ],
   "source": [
    "fig, grafico = plt.subplots()\n",
    "\n",
    "grafico.bar((\"Hombre\",\"Mujer\"),(hombre,mujer),color = \"g\", alpha = 0.8, width = 0.6, align = \"center\")"
   ]
  },
  {
   "cell_type": "markdown",
   "metadata": {},
   "source": [
    "El Grafico se explica muy detalladamente, sobre la imponencia de suicidios por el lado del hombre"
   ]
  },
  {
   "cell_type": "markdown",
   "metadata": {},
   "source": [
    "Ya una vez analizado la categoria de Generacion, pasaremos al analisis de años que lo explicaremos con un pequeño grafico de dispersion.\n",
    "Primero buscaremos cuantos datos individuales tiene la columna años"
   ]
  },
  {
   "cell_type": "code",
   "execution_count": 24,
   "metadata": {},
   "outputs": [
    {
     "data": {
      "text/plain": [
       "array([1985, 1986, 1987, 1988, 1989, 1990, 1991, 1992, 1993, 1994, 1995,\n",
       "       1996, 1997, 1998, 1999, 2000, 2001, 2002, 2003, 2004, 2005, 2006,\n",
       "       2007, 2008, 2009, 2010, 2011, 2012, 2013, 2014, 2015], dtype=int64)"
      ]
     },
     "execution_count": 24,
     "metadata": {},
     "output_type": "execute_result"
    }
   ],
   "source": [
    "anios = solomex['year'].unique()\n",
    "\n",
    "anios"
   ]
  },
  {
   "cell_type": "markdown",
   "metadata": {},
   "source": [
    "Una vez que tenemos los datos individuales seguimos con el agrupamiento de suicidios que le corresponde a cada uno"
   ]
  },
  {
   "cell_type": "code",
   "execution_count": 25,
   "metadata": {},
   "outputs": [
    {
     "name": "stdout",
     "output_type": "stream",
     "text": [
      "Los años contemplados en Mexico y la cantidad de suicidios de cada uno.\n",
      "1985  ---->  1544\n",
      "1986  ---->  1714\n",
      "1987  ---->  1701\n",
      "1988  ---->  1703\n",
      "1989  ---->  1865\n",
      "1990  ---->  1926\n",
      "1991  ---->  2103\n",
      "1992  ---->  2237\n",
      "1993  ---->  2342\n",
      "1994  ---->  2588\n",
      "1995  ---->  2877\n",
      "1996  ---->  3008\n",
      "1997  ---->  3350\n",
      "1998  ---->  3312\n",
      "1999  ---->  3327\n",
      "2000  ---->  3456\n",
      "2001  ---->  3760\n",
      "2002  ---->  3826\n",
      "2003  ---->  4070\n",
      "2004  ---->  4056\n",
      "2005  ---->  4274\n",
      "2006  ---->  4230\n",
      "2007  ---->  4285\n",
      "2008  ---->  4642\n",
      "2009  ---->  5023\n",
      "2010  ---->  4858\n",
      "2011  ---->  5558\n",
      "2012  ---->  5381\n",
      "2013  ---->  5711\n",
      "2014  ---->  6178\n",
      "2015  ---->  6234\n"
     ]
    }
   ],
   "source": [
    "cantidad_por_anio = []\n",
    "total_anios = 0\n",
    "\n",
    "for i in range(0,len(anios)):\n",
    "    \n",
    "    for n in range(1,filas):\n",
    "        \n",
    "        if hoja.cell(column = 1, row = n).value == \"Mexico\":\n",
    "            \n",
    "            if hoja.cell(column = 2, row = n).value == anios[i]:\n",
    "                \n",
    "                total_anios = hoja.cell(column = 5, row = n).value + total_anios\n",
    "    \n",
    "    cantidad_por_anio.append(total_anios)\n",
    "    total_anios = 0\n",
    "\n",
    "print(\"Los años contemplados en Mexico y la cantidad de suicidios de cada uno.\")\n",
    "for n in range(0,len(anios)):\n",
    "    \n",
    "    print(anios[n],\" ----> \", cantidad_por_anio[n])\n",
    "    "
   ]
  },
  {
   "cell_type": "code",
   "execution_count": 26,
   "metadata": {
    "scrolled": true
   },
   "outputs": [
    {
     "data": {
      "text/plain": [
       "<matplotlib.axes._subplots.AxesSubplot at 0x27ffdea0d48>"
      ]
     },
     "execution_count": 26,
     "metadata": {},
     "output_type": "execute_result"
    },
    {
     "data": {
      "image/png": "[encoded data removed]",
      "text/plain": [
       "<Figure size 720x360 with 1 Axes>"
      ]
     },
     "metadata": {
      "needs_background": "light"
     },
     "output_type": "display_data"
    }
   ],
   "source": [
    "solomex[solomex['country'] == 'Mexico'].plot.scatter(x='year', y='suicides_no', color = 'r', figsize=(10,5))"
   ]
  },
  {
   "cell_type": "markdown",
   "metadata": {},
   "source": [
    "En la primera representacion de numeros haciendo la comparacion de años respecto la cantidad de suicidios, podemos observar la cantidad de suicidos por cada años, respecto al grafico nos podemos dar cuenta como la dispersion va aumentando cada vez mas conforme los años van creciendo, vemo que en el año 1985 tenemos un rango entre 200-400 obteniendo una cantidad total de 1544 mientras para el año 2015 apesar de tener una mayor concentracion en 200-300 suicidios tenemos una cantidad total de 6234"
   ]
  },
  {
   "cell_type": "code",
   "execution_count": 27,
   "metadata": {
    "scrolled": false
   },
   "outputs": [
    {
     "data": {
      "text/plain": [
       "Text(0, 0.5, 'Num Suicidios')"
      ]
     },
     "execution_count": 27,
     "metadata": {},
     "output_type": "execute_result"
    },
    {
     "data": {
      "image/png": "[encoded data removed]",
      "text/plain": [
       "<Figure size 1080x360 with 1 Axes>"
      ]
     },
     "metadata": {
      "needs_background": "light"
     },
     "output_type": "display_data"
    }
   ],
   "source": [
    "fig, grafico = plt.subplots(figsize = (15,5))\n",
    "\n",
    "grafico.scatter(anios,cantidad_por_anio,color='r')\n",
    "grafico.set_title(\"Representacion acumulada\")\n",
    "grafico.set_xlabel(\"Año\")\n",
    "grafico.set_ylabel(\"Num Suicidios\")"
   ]
  },
  {
   "cell_type": "markdown",
   "metadata": {},
   "source": [
    "Una Mejor representacion respecto al grafico de Año - Cantidad de suicidios"
   ]
  },
  {
   "cell_type": "markdown",
   "metadata": {},
   "source": [
    "Bueno como ya hemos visto explicaciones de los datos por sexo, generacion, año cada uno en comparacion con la cantidad de suicidios, a continuacion veremos una explicacion respecto a los rangos de edad y asi poder contestar la otra pregunta de interes.\n",
    "primero tenemos que visualizar con cuantos rangos de edades contempla la base de datos"
   ]
  },
  {
   "cell_type": "code",
   "execution_count": 28,
   "metadata": {},
   "outputs": [
    {
     "data": {
      "text/plain": [
       "array(['75+ years', '55-74 years', '25-34 years', '35-54 years',\n",
       "       '15-24 years', '5-14 years'], dtype=object)"
      ]
     },
     "execution_count": 28,
     "metadata": {},
     "output_type": "execute_result"
    }
   ],
   "source": [
    "edad = solomex['age'].unique()\n",
    "edad"
   ]
  },
  {
   "cell_type": "code",
   "execution_count": 29,
   "metadata": {},
   "outputs": [
    {
     "name": "stdout",
     "output_type": "stream",
     "text": [
      "['75+ years' '55-74 years' '35-54 years' '25-34 years' '15-24 years'\n",
      " '5-14 years']\n"
     ]
    },
    {
     "data": {
      "text/plain": [
       "6"
      ]
     },
     "execution_count": 29,
     "metadata": {},
     "output_type": "execute_result"
    }
   ],
   "source": [
    "e = edad[3]\n",
    "a = edad[2]\n",
    "edad[2] = e\n",
    "edad[3] = a\n",
    "\n",
    "print(edad)\n",
    "len(edad)"
   ]
  },
  {
   "cell_type": "markdown",
   "metadata": {},
   "source": [
    "Como observamos tenemos 6 clases de edades, las cuales las vamos a clasificar como (bebe, niño, adolecente, adulto, adulto mayor, mayor edad)"
   ]
  },
  {
   "cell_type": "code",
   "execution_count": 30,
   "metadata": {},
   "outputs": [
    {
     "name": "stdout",
     "output_type": "stream",
     "text": [
      "La cantidad de suicidios por rango de edad son : \n",
      "75+ years  ---->  4004\n",
      "55-74 years  ---->  12318\n",
      "35-54 years  ---->  29997\n",
      "25-34 years  ---->  27226\n",
      "15-24 years  ---->  33664\n",
      "5-14 years  ---->  3930\n"
     ]
    }
   ],
   "source": [
    "cantidad_edad = []\n",
    "suma_edad = 0\n",
    "nombre = [\"mayor edad  \", \"adulto mayor\", \"adulto      \", \"adolecente  \", \"niño        \", \"bebe        \"]\n",
    "\n",
    "\n",
    "for i in range(0,len(edad)):\n",
    "    \n",
    "    for n in range(1,filas):\n",
    "        \n",
    "        if hoja.cell(column = 1, row = n).value == \"Mexico\":\n",
    "            \n",
    "            if hoja.cell(column = 4, row = n).value == edad[i]:\n",
    "                \n",
    "                suma_edad = hoja.cell(column = 5, row = n).value + suma_edad\n",
    "                \n",
    "    cantidad_edad.append(suma_edad)\n",
    "            \n",
    "    suma_edad = 0\n",
    "                \n",
    "print(\"La cantidad de suicidios por rango de edad son : \")\n",
    "for i in range (0, len(edad)):\n",
    "    \n",
    "    print(edad[i] , \" ----> \", cantidad_edad[i])\n",
    "        \n",
    "\n"
   ]
  },
  {
   "cell_type": "markdown",
   "metadata": {},
   "source": [
    "Como se puede ver la clasificacion del rango de edad a su vez la cantidad de suicidios ocasionados, vamos a representarlo de forma grafica para poder obtener una mejor visualizacion de los datos y poder concluir con la pregunta de interes"
   ]
  },
  {
   "cell_type": "code",
   "execution_count": 31,
   "metadata": {},
   "outputs": [
    {
     "data": {
      "text/plain": [
       "<matplotlib.axes._subplots.AxesSubplot at 0x27f83e4f4c8>"
      ]
     },
     "execution_count": 31,
     "metadata": {},
     "output_type": "execute_result"
    },
    {
     "data": {
      "image/png": "[encoded data removed]",
      "text/plain": [
       "<Figure size 720x432 with 1 Axes>"
      ]
     },
     "metadata": {
      "needs_background": "light"
     },
     "output_type": "display_data"
    }
   ],
   "source": [
    "\n",
    "plt.figure(figsize = (10,6))\n",
    "sns.barplot(edad, cantidad_edad)"
   ]
  },
  {
   "cell_type": "markdown",
   "metadata": {},
   "source": [
    "Ya con el grafico elaborado, recordaremos la pregunta de interes....\n",
    "- ¿En que rangos de edades son más comunes los suicidios?\n",
    "\n",
    "la mayor cantidad de suicidios es en el rango de 15-24 años, ahora buscaremos en que año fue la mayor cantidad de suicidios tomando solamente el rango dicho anteriormente"
   ]
  },
  {
   "cell_type": "code",
   "execution_count": 32,
   "metadata": {
    "scrolled": false
   },
   "outputs": [
    {
     "name": "stdout",
     "output_type": "stream",
     "text": [
      "1985  --->  107\n",
      "1986  --->  117\n",
      "1987  --->  113\n",
      "1988  --->  118\n",
      "1989  --->  96\n",
      "1990  --->  114\n",
      "1991  --->  113\n",
      "1992  --->  126\n",
      "1993  --->  126\n",
      "1994  --->  168\n",
      "1995  --->  198\n",
      "1996  --->  217\n",
      "1997  --->  255\n",
      "1998  --->  227\n",
      "1999  --->  211\n",
      "2000  --->  231\n",
      "2001  --->  263\n",
      "2002  --->  260\n",
      "2003  --->  280\n",
      "2004  --->  238\n",
      "2005  --->  272\n",
      "2006  --->  287\n",
      "2007  --->  272\n",
      "2008  --->  325\n",
      "2009  --->  359\n",
      "2010  --->  350\n",
      "2011  --->  439\n",
      "2012  --->  407\n",
      "2013  --->  392\n",
      "2014  --->  416\n",
      "2015  --->  484\n"
     ]
    }
   ],
   "source": [
    "nino = []\n",
    "nino_unico = []\n",
    "total_suicidios = 0\n",
    "total = []\n",
    "\n",
    "for n in range(1,filas):\n",
    "      \n",
    "    if hoja.cell(column = 1, row = n).value == \"Mexico\":\n",
    "        \n",
    "        if hoja.cell(column = 4, row = n).value == \"15-24 years\":\n",
    "            \n",
    "            suma_nino = hoja.cell(column = 2, row = n).value\n",
    "            nino.append(suma_nino)\n",
    "\n",
    "for i in range(1,len(nino)):\n",
    "    \n",
    "    if nino[i-1] == nino[i]:\n",
    "        \n",
    "        nino_unico.append(nino[i])\n",
    "        \n",
    "for i in range(0,len(nino_unico)):\n",
    "    \n",
    "    for n in range(1,filas):\n",
    "        \n",
    "        if hoja.cell(column = 1, row = n).value == \"Mexico\":\n",
    "            \n",
    "            if hoja.cell(column = 2, row = n).value == nino_unico[i]:\n",
    "                \n",
    "                if hoja.cell(column = 4,row = n).value == \"15-24 years\":\n",
    "                    \n",
    "                    total_suicidios = hoja.cell(column = 5, row = n).value + total_anios\n",
    "    \n",
    "    total.append(total_suicidios)\n",
    "    total_suicidios = 0\n",
    "    \n",
    "for n in range(0,len(total)):\n",
    "    \n",
    "    print(nino_unico[n], \" ---> \", total[n])"
   ]
  },
  {
   "cell_type": "code",
   "execution_count": 33,
   "metadata": {
    "scrolled": false
   },
   "outputs": [
    {
     "data": {
      "text/plain": [
       "Text(0.5, 1.0, 'Suicidios 15-24 años dividido anualmente')"
      ]
     },
     "execution_count": 33,
     "metadata": {},
     "output_type": "execute_result"
    },
    {
     "data": {
      "image/png": "[encoded data removed]",
      "text/plain": [
       "<Figure size 720x432 with 1 Axes>"
      ]
     },
     "metadata": {
      "needs_background": "light"
     },
     "output_type": "display_data"
    }
   ],
   "source": [
    "fig, acostado = plt.subplots(figsize = (10,6))\n",
    "\n",
    "acostado.barh(nino_unico,total,align = 'center')\n",
    "acostado.set_xlabel(\"Num Suicidios\")\n",
    "acostado.set_ylabel(\"Años\")\n",
    "acostado.invert_yaxis()\n",
    "acostado.set_title(\"Suicidios 15-24 años dividido anualmente\")\n"
   ]
  },
  {
   "cell_type": "markdown",
   "metadata": {},
   "source": [
    "Despues de haber encontrado los años que correspondian a rango de edad de 15-24 años solamente de Mexico, mediante el grafico de arriba comprobamos que la mayor cantidad de suicidios acontecio en el intervalo del 2010-2015."
   ]
  }
 ],
 "metadata": {
  "kernelspec": {
   "display_name": "Python 3",
   "language": "python",
   "name": "python3"
  },
  "language_info": {
   "codemirror_mode": {
    "name": "ipython",
    "version": 3
   },
   "file_extension": ".py",
   "mimetype": "text/x-python",
   "name": "python",
   "nbconvert_exporter": "python",
   "pygments_lexer": "ipython3",
   "version": "3.7.4"
  }
 },
 "nbformat": 4,
 "nbformat_minor": 2
}
